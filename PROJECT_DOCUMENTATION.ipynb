{
 "cells": [
  {
   "cell_type": "markdown",
   "metadata": {},
   "source": [
    "## **Mind map**\n",
    "![Mind map image](images/MindMap.png)"
   ]
  },
  {
   "cell_type": "markdown",
   "metadata": {},
   "source": [
    "## **Defining the purpose**\n",
    "\n",
    "##### **Hypothesis**: Students at Gosford High School who go to public spaces are more likely to complete homework."
   ]
  },
  {
   "cell_type": "markdown",
   "metadata": {},
   "source": [
    "## **Requirements Outline**\n",
    "\n",
    "#### **Functional Requirements**\n",
    "1. Should be easy to understand and use.\n",
    "2. Should be able to run without/minimal errors, and if there are it should be able to handle them.\n",
    "3. Should show and graph data.\n",
    "4. Should be able to filter and show cleaned data.\n",
    "\n",
    "#### **Non-functional Requirements**\n",
    "1. Should have a visually pleasing user interface that isnt cluttered.\n",
    "2. Should be fast and secure to prevent unwanted slow downs.\n",
    "3. Should have fast navigation to go to different areas of the program.\n",
    "\n",
    "#### **Use Case**\n",
    "##### *Actor:* User\n",
    "##### *Goal:* To access and show data through a user interface.\n",
    "##### *Preconditions:*\n",
    "##### -The dataset is already in the file and is added to a computer by the programmer.\n",
    "##### -User can access the files\n",
    "##### *Main Flow:*\n",
    "1. User opens the program and is shown a menu\n",
    "2. User chooses to view table, filter keywords, or visualise a table\n",
    "3. The program performs the correct task that was chosen by the user.\n",
    "##### *Postconditions:*\n",
    "##### -User has viewed the outputed data\n",
    "##### -User interface goes back to the starting menu"
   ]
  },
  {
   "cell_type": "markdown",
   "metadata": {},
   "source": [
    "## **Researching and Planning**\n",
    "\n",
    "#### **Research**\n",
    "##### -https://www.student.unsw.edu.au/notices/2024/01/what-makes-good-study-space\n",
    "##### -https://www.asbec.asn.au/news-items/nsw-dpie-public-spaces-during-covid-19-survey-results/#:~:text=The%20NSW%20Department%20of%20Planning,research%20returned%20seven%20key%20insights:\n",
    "##### -https://www.sciencedirect.com/science/article/abs/pii/S0360132316301652\n",
    "\n",
    "#### **Discusion**\n",
    "##### -People enjoy studying in public spaces more than at home. Studies from schools ans science companies have found that students enjoy, prefer and work better in a public space, they say it is because they are convenient and have everything they need to study, like tables, power points and often free wifi. For example, a library is perfect for studying as it offers a quiet space with tables and power points and more times than not, free wifi. Lets say you had the choice to stufy at home which might be a cluttered space with too many distractions, or you could go to an uncluttered, distraction free space. You would most likely choose the library as it has everything you need.\n",
    "\n",
    "#### **Data Dictionary**\n",
    "| Field | Datatype | Format for Display | Description | Example | Validation |\n",
    "|-------|----------|--------------------|-------------|---------|------------|\n",
    "| Do you study in public spaces? | object | XX…XX | a yes or no answer to the question | Yes | Must be a string |\n",
    "| Do you genuinely go to public spaces to study or do you just muck around? | object | XX…XX | do/dont answer to question | I muck around :( | Must be a string |\n",
    "| Where? | object | XX…XX | multiple choice or written answer | library,park | Must be a string |\n",
    "| How often? | int | NN | a 1-10 answer of how often they go to a public space to study | 6 | Must be an integer |\n",
    "| Do you go with friends? | object | XX…XX | a yes or no answer if they go with friends to study | no | Must be a string |\n",
    "| Do you get more work done than if you studied at home? | object | XX…XX | a yes/no/same amount answer to the question | I do the same amount | Must be a string |\n",
    "| Do you study better if the place is less crowded? | object | XX…XX | a better/worse/no difference answer to the question | Crowdedness makes me do less work | Must be a string |\n",
    "| How long do you study for at that space? | int | NN…NN | how long the person studies for | 60 | has to be an integer |\n",
    "| Why not? | object | XX…XX | a written anser of why they dont study in a public space | too loud | Has to be a string |\n",
    "| How close do you live to a public space? | int | NN | a 1-10 answer of how close they live to a public space | 3 | Must be an integer |"
   ]
  },
  {
   "cell_type": "markdown",
   "metadata": {},
   "source": [
    "## **Analysis**\n",
    "##### Most people actually do study in public places. Most people prefer to study in a public place rather than home, they also go very often too and study for more than an hour, but ive found out that if the place is crowded, people get less work done which is interesting. This is related to the fact that people who dont study in public places have said stuff mainly about how distracting and loud it is, and they say how it is better to just study at home. For example, one response was \"I get distracted by the public and surrounding noises\", this also related to crowdedness and how loud the spaces are. Lets say you where at a library and a big group of kids barged in an started making loud noises, intentional or unintentional, it is still distracting so it makes sense why people enjoy home over a public space.\n",
    "\n",
    "## **Conclusion to hypothesis**\n",
    "##### -Students at GHS who study at public spaces do in fact complete more homework but this can be effected by factors like crowdedness and how loud the environment is."
   ]
  },
  {
   "cell_type": "markdown",
   "metadata": {},
   "source": [
    "## **Peer Verification**\n",
    "\n",
    "### *Me -> Benji*\n",
    "##### Plus: Very easy to understand, and can be operated by pretty much anyone. Everything works well without any errors or bugs. When filtering you can't start high and end low, and you have to input a valid number which is great.\n",
    "\n",
    "##### Minus: A tiny problem I encountered which isn't a bug or error, is that if I type something incorrectly when filtering, I don't get any feedback on what the problem was. Also you can type up to 1946 even though it says from 1950-2025. After some further testing i've found that if you type a letter when filtering it gives an error, which could have been fixed with try except.\n",
    "\n",
    "##### Implication: Overall everything works well and is good for getting simple and easy to understand data. Only ui issue was that there was no feedback sometimes. Great that you included a way to show the other interesting facts. Not much else to say but great job :)\n",
    "\n",
    "### *Benji -> Me*\n",
    "##### Plus: Lots of raw information to choose from. Tables are put together well and there are many options. Error handling seems good and there is filtering by keyword.\n",
    "\n",
    "##### Minus: Not sure if this is exclusive to my testing, but I couldn't get any graphs to show, it would only say 'error while trying to show graph'. Also the options are buried in multiple inputs which can make it a little clunky, and trying to cancel, in keywords triggers an error.\n",
    "\n",
    "##### Implication: The program is good for finding raw information with tables, due to the abundance of different information, Visualisation is mostly good, however some of the graphs are not really useful, e.g. \"Do you study in public spaces (scatter graph)\", although it is designed to have options for everything. Keyword filtering is well implemented which means that users can find information if they want only a specific thing."
   ]
  },
  {
   "cell_type": "markdown",
   "metadata": {},
   "source": [
    "## **Final Evaluation**\n",
    "\n",
    "### *system and results in relation to your Requirements Outline.*\n",
    "##### I think I created a successful project and have met most of my goals in the requirements outline. The only few things I couldnt achieve was showing the graphs, because my data is from a form, it is hard to clean all of the data, and everything is a bit hard to graph as they are different types of data (for example, instead of being a number to a number, it was a string to a number). Also I would have liked to have faster navigation but I needed to ask the user what they wanted to do with the data many times which made it a slow proccess.\n",
    "\n",
    "### *system in relation to peer feedback*\n",
    "##### I agree with Benji, it is hard to show a graph without causing an error and the options being buried in multiple inputs makes the program clunky and slow, these could be improved on with further programming.\n",
    "\n",
    "### *project in relation to project management*\n",
    "##### My time management could have been alot better as I spent some time trying to show the graphs as I could not get them to work, but what I should have done was asked for help which was what I ended up doing a few days before the deadline. Most of the time I thought I would end up doing this task with alot of time left so I put off the project until I realised that I wouldnt have that much time left, this left the program with some problems that could have definitely been fixed.\n",
    "\n",
    "### *system in in relation to its data and security*\n",
    "##### The data I have is accurate as it is pulled directly from the GHS students and is also up to date and unbiased for the same reason. The user experienced could have been improved a bit, as Benji was saying in the peer evalutation, the options being buried in multiple inputs makes the program clunky and slow, and could have been improved on."
   ]
  }
 ],
 "metadata": {
  "language_info": {
   "name": "python"
  }
 },
 "nbformat": 4,
 "nbformat_minor": 2
}
